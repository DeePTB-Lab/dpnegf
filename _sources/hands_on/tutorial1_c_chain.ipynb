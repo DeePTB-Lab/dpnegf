{
 "cells": [
  {
   "cell_type": "markdown",
   "id": "f132d6ec",
   "metadata": {},
   "source": [
    "# Tutorial 1:  Quantum Transport in a One-Dimensional Chain"
   ]
  },
  {
   "cell_type": "markdown",
   "id": "7025b7fe",
   "metadata": {},
   "source": [
    "## Introduction\n",
    "\n",
    "**DPNEGF** is a Python package that integrates the Deep Learning Tight-Binding (**DeePTB**) approach with the Non-Equilibrium Green's Function (**NEGF**) method, \n",
    "establishing an efficient quantum transport simulation framework **DeePTB-NEGF** with first-principles accuracy. \n",
    "\n",
    "Based on the accurate electronic structure prediction in large-scale and complex systems, DPNEGF implements the\n",
    "high-efficiency algorithm for high-throughput and large-scale quantum transport simulations in nanoelectronics.\n",
    "\n",
    "\n",
    "### Learning Objectives\n",
    "\n",
    "In this tutorial, you will learn \n",
    "1. how to load DeePTB model and plot band structure\n",
    "2. how to calculate the transmission spectrum\n",
    "   \n",
    "For demonstration, we use a one-dimensional chain as an example.\n",
    "\n",
    "### Requirements\n",
    "\n",
    "DeePTB and DPNEGF installed. Detailed installation instructions can be found in README.\n"
   ]
  },
  {
   "cell_type": "markdown",
   "id": "959c7fa0",
   "metadata": {},
   "source": [
    "### *WARM UP*: A short introduction to NEGF\n",
    "\n",
    "The **Non-Equilibrium Green’s Function (NEGF)** method is a widely used theoretical framework \n",
    "for studying quantum transport in nanoscale devices (molecular junctions, nanowires, CNT-FETs, etc.).  \n",
    "It provides a rigorous way to compute current, density of states (DOS), and transmission by combining \n",
    "quantum mechanics with open boundary conditions.\n",
    "\n",
    "\n",
    "#### 1. Partitioning the system\n",
    "We divide the full system into three regions:\n",
    "- **Left electrode (L)**: semi-infinite periodic lead\n",
    "- **Device region (D)**: finite scattering region of interest\n",
    "- **Right electrode (R)**: semi-infinite periodic lead\n",
    "\n",
    "The Hamiltonian of the total system can be written schematically as:\n",
    "\n",
    "$$\n",
    "H = \\begin{bmatrix}\n",
    "H_L & V_{LD} & 0 \\\\\n",
    "V_{DL} & H_D & V_{DR} \\\\\n",
    "0 & V_{RD} & H_R\n",
    "\\end{bmatrix}\n",
    "$$\n",
    "\n",
    "\n",
    "\n",
    "#### 2. Green's function of the device\n",
    "The central object is the **retarded Green’s function** of the device region:\n",
    "\n",
    "$$\n",
    "G^r(E) = \\Big[ E S - H_D - \\Sigma_L^r(E) - \\Sigma_R^r(E) \\Big]^{-1},\n",
    "$$\n",
    "\n",
    "where:\n",
    "- $H_D$: device Hamiltonian,\n",
    "- $\\Sigma_{L/R}^r(E)$: electrode retarded self-energies, describing the coupling between device and semi-infinite electrodes.\n",
    "\n",
    "The **self-energy** contains information about level broadening induced by the leads.\n",
    "\n",
    "\n",
    "\n",
    "#### 3. Transmission function\n",
    "The **transmission probability** at energy \\(E\\) is given by:\n",
    "\n",
    "$$\n",
    "T(E) = \\mathrm{Tr} \\big[ \\Gamma_L(E) \\, G^r(E) \\, \\Gamma_R(E) \\, G^a(E) \\big],\n",
    "$$\n",
    "\n",
    "with:\n",
    "- $\\Gamma_{L/R}(E) = i \\big[ \\Sigma_{L/R}^r(E) - \\Sigma_{L/R}^a(E) \\big]$\n",
    "  (level broadening matrices),\n",
    "- $G^a(E) = \\big(G^r(E)\\big)^\\dagger$.\n",
    "\n",
    "\n",
    "\n",
    "#### 4. Current (Landauer–Büttiker formula)\n",
    "The current under bias voltage $V$ is obtained by integrating the transmission over energy:\n",
    "\n",
    "$$\n",
    "I(V) = \\frac{2e}{h} \\int dE \\, T(E, V) \\, \\big[ f_L(E) - f_R(E) \\big],\n",
    "$$\n",
    "\n",
    "where $f_{L/R}(E)$ are Fermi–Dirac distributions of the electrodes (shifted by bias).\n",
    "\n",
    "\n",
    "\n",
    "#### 5. Key physical quantities\n",
    "- **DOS**: density of states, related to the spectral function $A(E) = i(G^r - G^a)$.\n",
    "- **LDOS**: local density of states, giving spatially resolved information inside the device.\n",
    "- **Transmission spectrum**: energy-resolved measure of electron transport capability.\n",
    "\n",
    "\n",
    " \n",
    "NEGF connects *microscopic Hamiltonians* (from first principles or tight-binding) with *observable transport quantities* (DOS,  current), incorporating the quantum effects naturally.\n",
    "This makes it an essential tool for nanoelectronics and quantum device simulations.\n",
    "\n",
    "In **DPNEGF**, the DeePTB model (either DeePTB-SK or DeePTB-E3) is employed to predict the electronic Hamiltonian with first-principles accuracy, after which the efficiently implemented NEGF method is used to calculate quantum transport properties.\n"
   ]
  },
  {
   "cell_type": "markdown",
   "id": "fc8d4d3a",
   "metadata": {},
   "source": [
    "## 1. Model loading and band plotting\n",
    "\n",
    "In this section we will:\n",
    "- Load a pretrained DeePTB model for a linear atomic chain,\n",
    "- Plot the band structure (expected: a cosine-like dispersion for a single orbital 1D chain).\n",
    "\n",
    "\n",
    "For demonstration, here we prepare a Slater-Koster Tight-Binding model with one single orbital at each atomic site.\n",
    "\n",
    "Since there is a built-in baseline model covering the periodic table, for any target system of your interest, you can extract the corresponding model from this built-in baseline model. For more details about DeePTB and the built-in baseline model, please see [DeePTB-Tutorial 1: DeePTB-SK Baseline Model](https://deeptb.readthedocs.io/en/latest/quick_start/hands_on/tutorial1_base_sk.html)."
   ]
  },
  {
   "cell_type": "markdown",
   "id": "390a872a",
   "metadata": {},
   "source": [
    "Switch to the tutorial input directory. The examples and input files used in this tutorial are stored under `examples/atomic_chain_api/input_files`."
   ]
  },
  {
   "cell_type": "code",
   "execution_count": 1,
   "id": "b639b288",
   "metadata": {},
   "outputs": [
    {
     "name": "stdout",
     "output_type": "stream",
     "text": [
      "chain.vasp\tnegf_chain_new.json\tnnsk_C_new.json\n"
     ]
    }
   ],
   "source": [
    "import os\n",
    "from pathlib import Path\n",
    "workdir='../../examples/atomic_chain_api/input_files'\n",
    "wd = Path(workdir)\n",
    "if not wd.is_dir():\n",
    "    raise FileNotFoundError(f\"Workdir '{wd}' not found. Please adjust 'workdir'.\")\n",
    "os.chdir(wd)\n",
    "print(\"\\t\".join(sorted(os.listdir(\".\"))))"
   ]
  },
  {
   "cell_type": "markdown",
   "id": "7ee1872c",
   "metadata": {},
   "source": [
    "The logging settings."
   ]
  },
  {
   "cell_type": "code",
   "execution_count": null,
   "id": "463ca65d",
   "metadata": {},
   "outputs": [],
   "source": [
    "from dpnegf.utils.loggers import set_log_handles\n",
    "import logging\n",
    "from pathlib import Path\n",
    "\n",
    "\n",
    "results_path = '../band_plot'\n",
    "log_path = os.path.join(results_path, 'log')\n",
    "log_level = logging.INFO\n",
    "set_log_handles(log_level, Path(log_path) if log_path else None)"
   ]
  },
  {
   "cell_type": "markdown",
   "id": "52a9cbcf",
   "metadata": {},
   "source": [
    "Load model from file."
   ]
  },
  {
   "cell_type": "code",
   "execution_count": null,
   "id": "04d77b4f",
   "metadata": {},
   "outputs": [
    {
     "name": "stderr",
     "output_type": "stream",
     "text": [
      "DPNEGF WARNING The model option atomic_radius in nnsk is not defined in input model_options, set to v1.\n"
     ]
    }
   ],
   "source": [
    "from dptb.nn.build import build_model\n",
    "import json\n",
    "model =  \"nnsk_C_new.json\" # the model for demonstration\n",
    "with open(model) as f:\n",
    "    model_json = json.load(f)\n",
    "model = build_model(model,\n",
    "                    model_options= model_json['model_options'],\n",
    "                    common_options=model_json['common_options'])"
   ]
  },
  {
   "cell_type": "markdown",
   "id": "146abc51",
   "metadata": {},
   "source": [
    "After the model is loaded, bands for specific structures can be plotted. \n",
    "\n",
    "Here we load the full system and split it into unit cell."
   ]
  },
  {
   "cell_type": "code",
   "execution_count": 4,
   "id": "99775e30",
   "metadata": {},
   "outputs": [
    {
     "data": {
      "text/plain": [
       "Atoms(symbols='C12', pbc=True, cell=[10.0, 10.0, 19.2])"
      ]
     },
     "execution_count": 4,
     "metadata": {},
     "output_type": "execute_result"
    }
   ],
   "source": [
    "from ase.io import read\n",
    "structure =  \"chain.vasp\" \n",
    "atoms = read(structure)\n",
    "atoms"
   ]
  },
  {
   "cell_type": "code",
   "execution_count": 5,
   "id": "609ac0a9",
   "metadata": {},
   "outputs": [
    {
     "data": {
      "text/plain": [
       "Atoms(symbols='C', pbc=True, cell=[10.0, 10.0, 1.5999999999999999])"
      ]
     },
     "execution_count": 5,
     "metadata": {},
     "output_type": "execute_result"
    }
   ],
   "source": [
    "uni_cell_atoms = atoms[0:1]\n",
    "uni_cell_atoms.cell[2][2] = atoms.cell[2][2]/len(atoms)\n",
    "uni_cell_atoms"
   ]
  },
  {
   "cell_type": "markdown",
   "id": "b944bbf9",
   "metadata": {},
   "source": [
    "Because we only consider one orbital per atomic site, each atom contributes a single valence electron in the model.\n",
    "\n",
    "As visible in the band diagram, the characteristic cosine-like dispersion of a one-dimensional chain appears."
   ]
  },
  {
   "cell_type": "code",
   "execution_count": 6,
   "id": "a4bf51df",
   "metadata": {},
   "outputs": [
    {
     "name": "stderr",
     "output_type": "stream",
     "text": [
      "DPNEGF ERROR   TBPLaS is not installed. Thus the TBPLaS is not available, Please install it first.\n",
      "DPNEGF WARNING Overwrite the r_max setting in the model with the r_max setting in the AtomicData_options: 3.0\n",
      "DPNEGF WARNING This is very dangerous, please make sure you know what you are doing.\n",
      "/opt/mamba/envs/dpnegf-dev/lib/python3.10/site-packages/torch/nested/__init__.py:107: UserWarning: The PyTorch API of nested tensors is in prototype stage and will change in the near future. (Triggered internally at ../aten/src/ATen/NestedTensorImpl.cpp:178.)\n",
      "  return torch._nested_tensor_from_tensor_list(ts, dtype, None, device, None)\n",
      "DPNEGF WARNING eig_solver is not set, using default 'torch'.\n",
      "DPNEGF INFO    KPOINTS  klist: 101 kpoints\n",
      "DPNEGF INFO    The eigenvalues are already in data. will use them.\n",
      "DPNEGF INFO    Calculating Fermi energy in the case of spin-degeneracy.\n",
      "DPNEGF INFO    Fermi energy converged after 18 iterations.\n",
      "DPNEGF INFO    q_cal: 0.9999982678381729, total_electrons: 1.0, diff q: 1.7321618270838002e-06\n",
      "DPNEGF INFO    Estimated E_fermi: -13.65731141812973 based on the valence electrons setting nel_atom : {'C': 1} .\n",
      "DPNEGF INFO    No Fermi energy provided, using estimated value: -13.6573 eV\n"
     ]
    },
    {
     "data": {
      "image/png": "[encoded data removed]",
      "text/plain": [
       "<Figure size 640x560 with 1 Axes>"
      ]
     },
     "metadata": {},
     "output_type": "display_data"
    }
   ],
   "source": [
    "from dptb.postprocess.bandstructure.band import Band\n",
    "import shutil\n",
    "\n",
    "task_options = {\n",
    "        \"task\": \"band\",\n",
    "        \"kline_type\":\"abacus\",\n",
    "        \"kpath\":[[0.0,   0.0,   0.5,   50],   \n",
    "                 [0.0,   0.0,   0.0,   50],               \n",
    "                 [0.0,   0.0,  -0.5,   1]\n",
    "                ],\n",
    "        \"klabels\":[\"X\",\"G\",\"X\"],\n",
    "        \"emin\":-1.5,\n",
    "        \"emax\": 1.5,\n",
    "        \"nel_atom\":{\"C\": 1} \n",
    "\n",
    "       }\n",
    "\n",
    "if os.path.isdir(results_path):\n",
    "    shutil.rmtree(results_path, ignore_errors=True) \n",
    "\n",
    "band = Band(model, results_path)\n",
    "AtomicData_options = {\"r_max\": 3.0, \"pbc\": True}\n",
    "band.get_bands(data = uni_cell_atoms, \n",
    "               kpath_kwargs = task_options,\n",
    "               AtomicData_options = AtomicData_options)\n",
    "band.band_plot(emin = task_options['emin'],\n",
    "               emax = task_options['emax'])"
   ]
  },
  {
   "cell_type": "markdown",
   "id": "4fdc2558",
   "metadata": {},
   "source": [
    "## 2. NEGF calculation\n",
    "\n",
    "After the model is loaded, we can calculate the transmission spectrum for the one-dimension chain.\n",
    "\n",
    "A sample input file `negf_chain_new.json` is provided and can be loaded directly."
   ]
  },
  {
   "cell_type": "code",
   "execution_count": null,
   "id": "0f64a6b8",
   "metadata": {},
   "outputs": [
    {
     "name": "stderr",
     "output_type": "stream",
     "text": [
      "DPNEGF INFO    Numba is available and JIT functions are compiled.\n"
     ]
    }
   ],
   "source": [
    "try:\n",
    "    from dpnegf.runner.NEGF import NEGF\n",
    "except ImportError as e:\n",
    "    raise ImportError(\"dpnegf not found. Please install firstly.\") from e\n",
    "\n",
    "negf_input_file =  \"negf_chain_new.json\" \n",
    "structure =  \"chain.vasp\" \n",
    "output = \"../negf_output\"  \n",
    "if os.path.isdir(output):\n",
    "    shutil.rmtree(output, ignore_errors=True)\n",
    "os.makedirs(output, exist_ok=True)\n",
    "\n",
    "with open(negf_input_file, \"r\") as f:\n",
    "    negf_json = json.load(f)\n"
   ]
  },
  {
   "cell_type": "markdown",
   "id": "21e1c96d",
   "metadata": {},
   "source": [
    "This input file contains:\n",
    "- Energy range and step for the transmission calculation,\n",
    "- Structural information that determines how to divide the system into device and electrode regions (left and right),\n",
    "- Other important  parameters such as the number of valence electrons per element (the `nel_atom` field), which affects charge counting and Fermi level.\n"
   ]
  },
  {
   "cell_type": "code",
   "execution_count": 8,
   "id": "3e0f05b9",
   "metadata": {},
   "outputs": [
    {
     "data": {
      "text/plain": [
       "(0.02, -1.5, 1.5)"
      ]
     },
     "execution_count": 8,
     "metadata": {},
     "output_type": "execute_result"
    }
   ],
   "source": [
    "# Energy step and range for transmission calculation\n",
    "negf_json['task_options']['espacing'], negf_json['task_options']['emin'], negf_json['task_options']['emax']"
   ]
  },
  {
   "cell_type": "code",
   "execution_count": 9,
   "id": "14801354",
   "metadata": {},
   "outputs": [
    {
     "data": {
      "text/plain": [
       "{'gamma_center': True,\n",
       " 'time_reversal_symmetry': True,\n",
       " 'nel_atom': {'C': 1.0},\n",
       " 'kmesh': [1, 1, 1],\n",
       " 'pbc': [False, False, False],\n",
       " 'device': {'id': '4-8', 'sort': True},\n",
       " 'lead_L': {'id': '0-4',\n",
       "  'voltage': 0.0,\n",
       "  'kmesh_lead_Ef': [1, 1, 20],\n",
       "  'useBloch': False},\n",
       " 'lead_R': {'id': '8-12',\n",
       "  'voltage': 0.0,\n",
       "  'kmesh_lead_Ef': [1, 1, 20],\n",
       "  'useBloch': False}}"
      ]
     },
     "execution_count": 9,
     "metadata": {},
     "output_type": "execute_result"
    }
   ],
   "source": [
    "# Structural information for device and electrodes\n",
    "negf_json['task_options'][\"stru_options\"]"
   ]
  },
  {
   "cell_type": "markdown",
   "id": "d2f0aa7b",
   "metadata": {},
   "source": [
    "### Running NEGF from API\n",
    "\n",
    "Note that the calculation of self-energy files may take some time."
   ]
  },
  {
   "cell_type": "code",
   "execution_count": 10,
   "id": "830d67a4",
   "metadata": {},
   "outputs": [
    {
     "name": "stderr",
     "output_type": "stream",
     "text": [
      "DPNEGF INFO    ------ k-point for NEGF -----\n",
      "DPNEGF INFO    Gamma Center: True\n",
      "DPNEGF INFO    Time Reversal: True\n",
      "DPNEGF INFO    k-points Num: 1\n",
      "DPNEGF INFO    k-points: [[0 0 0]]\n",
      "DPNEGF INFO    k-points weights: [1.]\n",
      "DPNEGF INFO    --------------------------------\n",
      "DPNEGF WARNING AtomicData_options is extracted from input file. This may be not consistent with the model options. Please be careful and check the cutoffs.\n",
      "DPNEGF INFO    The AtomicData_options is:\n",
      "               {\n",
      "                   \"r_max\": 3.0\n",
      "               }\n",
      "DPNEGF INFO    Lead principal layers translational equivalence error (on average): 1.732052e-10 (threshold: 1.000000e-05)\n",
      "DPNEGF INFO    Lead principal layers translational equivalence error (on average): 1.732051e-10 (threshold: 1.000000e-05)\n",
      "DPNEGF INFO    The coupling width of lead_L is 1.\n",
      "DPNEGF INFO    The coupling width of lead_R is 1.\n",
      "DPNEGF INFO    --------------------------------------------------------------------------------\n",
      "DPNEGF INFO    The Hamiltonian has been initialized by model.\n",
      "DPNEGF INFO    ================================================================================\n",
      "DPNEGF INFO    -------------Fermi level calculation-------------\n",
      "DPNEGF WARNING No doping detected in lead_L, fixed_charge = 0\n",
      "DPNEGF WARNING No doping detected in lead_R, fixed_charge = 0\n",
      "DPNEGF INFO    Number of electrons in lead_L: {'C': 1.0}\n",
      "DPNEGF INFO    Number of electrons in lead_R: {'C': 1.0}\n",
      "DPNEGF INFO    -----Calculating Fermi level for lead_L-----\n",
      "DPNEGF INFO    KPOINTS  kmesh sampling: 11 kpoints\n",
      "DPNEGF WARNING Overwrite the r_max setting in the model with the r_max setting in the AtomicData_options: 3.0\n",
      "DPNEGF WARNING This is very dangerous, please make sure you know what you are doing.\n",
      "DPNEGF INFO    Getting eigenvalues from the model.\n",
      "DPNEGF INFO    Calculating Fermi energy in the case of spin-degeneracy.\n",
      "DPNEGF WARNING Fermi level bisection did not converge under tolerance 1e-10 after 51 iterations.\n",
      "DPNEGF INFO    q_cal: 3.999994485346824, total_electrons: 4.0, diff q: 5.514653175886508e-06\n",
      "DPNEGF INFO    Estimated E_fermi: -13.638588428497314 based on the valence electrons setting nel_atom : {'C': 1.0} .\n",
      "DPNEGF INFO    -----Calculating Fermi level for lead_R-----\n",
      "DPNEGF INFO    KPOINTS  kmesh sampling: 11 kpoints\n",
      "DPNEGF WARNING Overwrite the r_max setting in the model with the r_max setting in the AtomicData_options: 3.0\n",
      "DPNEGF WARNING This is very dangerous, please make sure you know what you are doing.\n",
      "DPNEGF INFO    Getting eigenvalues from the model.\n",
      "DPNEGF INFO    Calculating Fermi energy in the case of spin-degeneracy.\n",
      "DPNEGF WARNING Fermi level bisection did not converge under tolerance 1e-10 after 51 iterations.\n",
      "DPNEGF INFO    q_cal: 4.000002782981872, total_electrons: 4.0, diff q: 2.7829818716185173e-06\n",
      "DPNEGF INFO    Estimated E_fermi: -13.638587474822998 based on the valence electrons setting nel_atom : {'C': 1.0} .\n",
      "DPNEGF INFO    -------------------------------------------------\n",
      "DPNEGF INFO    Zero bias case detected.\n",
      "DPNEGF INFO    Fermi level for lead_L: -13.638588428497314\n",
      "DPNEGF INFO    Fermi level for lead_R: -13.638587474822998\n",
      "DPNEGF INFO    Electrochemical potential for lead_L: -13.638588428497314\n",
      "DPNEGF INFO    Electrochemical potential for lead_R: -13.638587474822998\n",
      "DPNEGF INFO    Reference energy E_ref: -13.638588428497314\n",
      "DPNEGF INFO    =================================================\n",
      "\n",
      "DPNEGF INFO    Merging 150 tmp self energy files into ../negf_output/self_energy/self_energy_leadL.h5\n",
      "DPNEGF INFO    Merge complete.\n",
      "DPNEGF INFO    Merging 150 tmp self energy files into ../negf_output/self_energy/self_energy_leadR.h5\n",
      "DPNEGF INFO    Merge complete.\n",
      "DPNEGF INFO    Properties computation at k = [0.0000,0.0000,0.0000]\n",
      "DPNEGF INFO    computing green's function at e = -1.500\n",
      "DPNEGF INFO    computing green's function at e = -1.198\n",
      "DPNEGF INFO    computing green's function at e = -0.896\n",
      "DPNEGF INFO    computing green's function at e = -0.594\n",
      "DPNEGF INFO    computing green's function at e = -0.292\n",
      "DPNEGF INFO    computing green's function at e = 0.010\n",
      "DPNEGF INFO    computing green's function at e = 0.312\n",
      "DPNEGF INFO    computing green's function at e = 0.614\n",
      "DPNEGF INFO    computing green's function at e = 0.916\n",
      "DPNEGF INFO    computing green's function at e = 1.218\n"
     ]
    }
   ],
   "source": [
    "if os.path.isdir(output):\n",
    "    shutil.rmtree(output, ignore_errors=True)\n",
    "os.makedirs(output)\n",
    "\n",
    "negf = NEGF(\n",
    "    model=model,\n",
    "    AtomicData_options=negf_json['AtomicData_options'],\n",
    "    structure=structure,\n",
    "    results_path=output,  \n",
    "    **negf_json['task_options']\n",
    ")\n",
    "   \n",
    "negf.compute()"
   ]
  },
  {
   "cell_type": "markdown",
   "id": "9c84a6c9",
   "metadata": {},
   "source": [
    "### Running NEGF from the Command Line\n",
    "\n",
    "The NEGF calculation can also be executed via the command-line interface (CLI). This allows batch runs and straightforward integration with job scripts on HPC systems. \n",
    "\n",
    "See the example CLI commands below.\n"
   ]
  },
  {
   "cell_type": "code",
   "execution_count": null,
   "id": "524faa1e",
   "metadata": {},
   "outputs": [],
   "source": [
    "# Command line for DPNEGF\n",
    "! pwd\n",
    "! [ -d \"../negf_output_cli\" ] && rm -r ../negf_output_cli\n",
    "! dpnegf run negf_chain_new.json  -i nnsk_C_new.json -stu chain.vasp -o ../negf_output_cli"
   ]
  },
  {
   "cell_type": "markdown",
   "id": "0fd1a663",
   "metadata": {},
   "source": [
    "### Results Analysis\n",
    "\n",
    "We can inspect the outputs of the NEGF run by loading the results file (`negf.out.pth`). The output  contains:\n",
    "- `T_avg`: the total transmission as a function of energy,\n",
    "- `T_k`: k-point resolved transmission (if k-sampling is used),\n",
    "- `DOS`: density of states on the energy grid,\n",
    "- `LDOS`: local density of states defined for each atomic site.\n"
   ]
  },
  {
   "cell_type": "code",
   "execution_count": 12,
   "id": "db275dee",
   "metadata": {},
   "outputs": [],
   "source": [
    "import torch\n",
    "import matplotlib.pyplot as plt\n",
    "results_path = os.path.join(output, 'negf.out.pth')\n",
    "if os.path.exists(results_path) is False:\n",
    "    raise FileNotFoundError(f\"Results file {results_path} not found. Please check if the NEGF calculation was successful.\")\n",
    "negf_out = torch.load(results_path,weights_only=False)"
   ]
  },
  {
   "cell_type": "markdown",
   "id": "b32cf91e",
   "metadata": {},
   "source": [
    "The result file is a dict containing all the results."
   ]
  },
  {
   "cell_type": "code",
   "execution_count": 13,
   "id": "7a29b9ff",
   "metadata": {},
   "outputs": [
    {
     "data": {
      "text/plain": [
       "dict_keys(['k', 'wk', 'uni_grid', 'DOS', 'T_k', 'LDOS', 'T_avg'])"
      ]
     },
     "execution_count": 13,
     "metadata": {},
     "output_type": "execute_result"
    }
   ],
   "source": [
    "negf_out.keys()"
   ]
  },
  {
   "cell_type": "code",
   "execution_count": 14,
   "id": "8eb092f6",
   "metadata": {},
   "outputs": [
    {
     "data": {
      "image/png": "[encoded data removed]",
      "text/plain": [
       "<Figure size 640x480 with 1 Axes>"
      ]
     },
     "metadata": {},
     "output_type": "display_data"
    }
   ],
   "source": [
    "plt.plot(negf_out['uni_grid'], negf_out['DOS'][str(negf_out['k'][0])])\n",
    "plt.xlabel('Energy (eV)')\n",
    "plt.ylabel('DOS')\n",
    "plt.title('DOS vs Energy')\n",
    "plt.grid()\n",
    "plt.show()"
   ]
  },
  {
   "cell_type": "code",
   "execution_count": 15,
   "id": "4a2fe762",
   "metadata": {},
   "outputs": [
    {
     "data": {
      "image/png": "[encoded data removed]",
      "text/plain": [
       "<Figure size 640x480 with 1 Axes>"
      ]
     },
     "metadata": {},
     "output_type": "display_data"
    }
   ],
   "source": [
    "plt.plot(negf_out['uni_grid'], negf_out['T_avg'])\n",
    "plt.xlabel('Energy (eV)')\n",
    "plt.ylabel('Transmission')\n",
    "plt.title('Transmission vs Energy')\n",
    "plt.grid()\n",
    "plt.show()"
   ]
  }
 ],
 "metadata": {
  "kernelspec": {
   "display_name": "dpnegf-dev",
   "language": "python",
   "name": "python3"
  },
  "language_info": {
   "codemirror_mode": {
    "name": "ipython",
    "version": 3
   },
   "file_extension": ".py",
   "mimetype": "text/x-python",
   "name": "python",
   "nbconvert_exporter": "python",
   "pygments_lexer": "ipython3",
   "version": "3.10.16"
  }
 },
 "nbformat": 4,
 "nbformat_minor": 5
}
